{
  "nbformat": 4,
  "nbformat_minor": 0,
  "metadata": {
    "colab": {
      "name": "Attention.ipynb",
      "provenance": [],
      "collapsed_sections": [],
      "machine_shape": "hm",
      "include_colab_link": true
    },
    "kernelspec": {
      "name": "python3",
      "display_name": "Python 3"
    },
    "accelerator": "GPU"
  },
  "cells": [
    {
      "cell_type": "markdown",
      "metadata": {
        "id": "view-in-github",
        "colab_type": "text"
      },
      "source": [
        "<a href=\"https://colab.research.google.com/github/Rnhondova/attention-learn-to-route/blob/master/Attention.ipynb\" target=\"_parent\"><img src=\"https://colab.research.google.com/assets/colab-badge.svg\" alt=\"Open In Colab\"/></a>"
      ]
    },
    {
      "cell_type": "code",
      "metadata": {
        "id": "qHWBoJA3KA53",
        "colab": {
          "base_uri": "https://localhost:8080/"
        },
        "outputId": "49a333c4-ad15-46f4-d1fd-2b07d9d163a6"
      },
      "source": [
        "# This ensures that a gpu is being used by the current google colab session.\n",
        "\n",
        "gpu_info = !nvidia-smi\n",
        "gpu_info = '\\n'.join(gpu_info)\n",
        "if gpu_info.find('failed') >= 0:\n",
        "  print('Select the Runtime > \"Change runtime type\" menu to enable a GPU accelerator, ')\n",
        "  print('and then re-execute this cell.')\n",
        "else:\n",
        "  print(gpu_info)"
      ],
      "execution_count": 74,
      "outputs": [
        {
          "output_type": "stream",
          "text": [
            "Sun Mar 28 23:40:34 2021       \n",
            "+-----------------------------------------------------------------------------+\n",
            "| NVIDIA-SMI 460.56       Driver Version: 460.32.03    CUDA Version: 11.2     |\n",
            "|-------------------------------+----------------------+----------------------+\n",
            "| GPU  Name        Persistence-M| Bus-Id        Disp.A | Volatile Uncorr. ECC |\n",
            "| Fan  Temp  Perf  Pwr:Usage/Cap|         Memory-Usage | GPU-Util  Compute M. |\n",
            "|                               |                      |               MIG M. |\n",
            "|===============================+======================+======================|\n",
            "|   0  Tesla P100-PCIE...  Off  | 00000000:00:04.0 Off |                    0 |\n",
            "| N/A   34C    P0    26W / 250W |      0MiB / 16280MiB |      0%      Default |\n",
            "|                               |                      |                  N/A |\n",
            "+-------------------------------+----------------------+----------------------+\n",
            "                                                                               \n",
            "+-----------------------------------------------------------------------------+\n",
            "| Processes:                                                                  |\n",
            "|  GPU   GI   CI        PID   Type   Process name                  GPU Memory |\n",
            "|        ID   ID                                                   Usage      |\n",
            "|=============================================================================|\n",
            "|  No running processes found                                                 |\n",
            "+-----------------------------------------------------------------------------+\n"
          ],
          "name": "stdout"
        }
      ]
    },
    {
      "cell_type": "code",
      "metadata": {
        "colab": {
          "base_uri": "https://localhost:8080/"
        },
        "id": "ycwxgcUMAWQQ",
        "outputId": "a2f63196-108f-4d94-b235-97af6cd1d4b3"
      },
      "source": [
        "from google.colab import drive\n",
        "drive.mount('/content/drive')"
      ],
      "execution_count": 2,
      "outputs": [
        {
          "output_type": "stream",
          "text": [
            "Mounted at /content/drive\n"
          ],
          "name": "stdout"
        }
      ]
    },
    {
      "cell_type": "code",
      "metadata": {
        "id": "zLd2Yfk653Gu",
        "colab": {
          "base_uri": "https://localhost:8080/"
        },
        "outputId": "f76d9183-0615-449f-bf09-168fca6f709a"
      },
      "source": [
        "# This code block is used to access your google drive\n",
        "\n",
        "from google.colab import drive\n",
        "ROOT = \"/content/drive\"\n",
        "drive.mount(ROOT)"
      ],
      "execution_count": null,
      "outputs": [
        {
          "output_type": "stream",
          "text": [
            "Drive already mounted at /content/drive; to attempt to forcibly remount, call drive.mount(\"/content/drive\", force_remount=True).\n"
          ],
          "name": "stdout"
        }
      ]
    },
    {
      "cell_type": "code",
      "metadata": {
        "colab": {
          "base_uri": "https://localhost:8080/"
        },
        "id": "xO6Ir-cHwqnv",
        "outputId": "095e5627-3304-4ab6-c306-10928f6794f4"
      },
      "source": [
        "!git clone https://github.com/Rnhondova/garage.git"
      ],
      "execution_count": 2,
      "outputs": [
        {
          "output_type": "stream",
          "text": [
            "Cloning into 'garage'...\n",
            "remote: Enumerating objects: 16, done.\u001b[K\n",
            "remote: Counting objects: 100% (16/16), done.\u001b[K\n",
            "remote: Compressing objects: 100% (14/14), done.\u001b[K\n",
            "remote: Total 25274 (delta 4), reused 13 (delta 2), pack-reused 25258\u001b[K\n",
            "Receiving objects: 100% (25274/25274), 58.59 MiB | 22.94 MiB/s, done.\n",
            "Resolving deltas: 100% (18787/18787), done.\n"
          ],
          "name": "stdout"
        }
      ]
    },
    {
      "cell_type": "code",
      "metadata": {
        "colab": {
          "base_uri": "https://localhost:8080/"
        },
        "id": "FPW7QCr8IK6v",
        "outputId": "c0bd359c-57cb-4224-a705-f03a336d2900"
      },
      "source": [
        "%cd garage/"
      ],
      "execution_count": 22,
      "outputs": [
        {
          "output_type": "stream",
          "text": [
            "[Errno 2] No such file or directory: 'garage/'\n",
            "/content/garage/src/attention-learn-to-route\n"
          ],
          "name": "stdout"
        }
      ]
    },
    {
      "cell_type": "code",
      "metadata": {
        "colab": {
          "base_uri": "https://localhost:8080/"
        },
        "id": "JFov2CnGyviD",
        "outputId": "aad266cd-b5fb-4606-f8ed-fe17d136705e"
      },
      "source": [
        "!git submodule update --init --recursive"
      ],
      "execution_count": 4,
      "outputs": [
        {
          "output_type": "stream",
          "text": [
            "Submodule 'src/attention-learn-to-route' (https://github.com/Rnhondova/attention-learn-to-route.git) registered for path 'src/attention-learn-to-route'\n",
            "Cloning into '/content/garage/src/attention-learn-to-route'...\n",
            "Submodule path 'src/attention-learn-to-route': checked out 'f2c124704cd2cdcbcef3a8997982985ee0b0d068'\n"
          ],
          "name": "stdout"
        }
      ]
    },
    {
      "cell_type": "code",
      "metadata": {
        "colab": {
          "base_uri": "https://localhost:8080/"
        },
        "id": "WnXWqHp0w-y3",
        "outputId": "34ad1c47-a3c7-4b9c-d14e-e854b01eef57"
      },
      "source": [
        "#%cd garage/src/garage/torch/algos/attention-learn-to-route/\n",
        "%cd src/attention-learn-to-route/"
      ],
      "execution_count": 5,
      "outputs": [
        {
          "output_type": "stream",
          "text": [
            "/content/garage/src/attention-learn-to-route\n"
          ],
          "name": "stdout"
        }
      ]
    },
    {
      "cell_type": "code",
      "metadata": {
        "colab": {
          "base_uri": "https://localhost:8080/"
        },
        "id": "OTNHf8woxkr9",
        "outputId": "02ce1fa4-faa1-4015-a511-49526afb7fe2"
      },
      "source": [
        "!ls"
      ],
      "execution_count": 49,
      "outputs": [
        {
          "output_type": "stream",
          "text": [
            " attention_gym.py\t   nets\t\t\t    run.py\n",
            " Attention.ipynb\t   options.py\t\t    simple_tsp.ipynb\n",
            " environment.yml\t   outputs\t\t   'train copy.py'\n",
            " eval.py\t\t   plot_vrp.ipynb\t    train_copy.py\n",
            " garage_requirements.txt   pretrained\t\t    train.py\n",
            " generate_data.py\t   problems\t\t    TRPO_Attention.py\n",
            " images\t\t\t   __pycache__\t\t    utils\n",
            " LICENSE\t\t   README.md\n",
            " logs\t\t\t   reinforce_baselines.py\n"
          ],
          "name": "stdout"
        }
      ]
    },
    {
      "cell_type": "code",
      "metadata": {
        "colab": {
          "base_uri": "https://localhost:8080/"
        },
        "id": "mqFZroDoBh7T",
        "outputId": "008223eb-1d8d-4df3-a538-3c6518d97244"
      },
      "source": [
        "!pip install --upgrade pip\n",
        "!pip install -r garage_requirements.txt"
      ],
      "execution_count": 7,
      "outputs": [
        {
          "output_type": "stream",
          "text": [
            "Collecting pip\n",
            "\u001b[?25l  Downloading https://files.pythonhosted.org/packages/fe/ef/60d7ba03b5c442309ef42e7d69959f73aacccd0d86008362a681c4698e83/pip-21.0.1-py3-none-any.whl (1.5MB)\n",
            "\r\u001b[K     |▏                               | 10kB 25.2MB/s eta 0:00:01\r\u001b[K     |▍                               | 20kB 10.0MB/s eta 0:00:01\r\u001b[K     |▋                               | 30kB 8.0MB/s eta 0:00:01\r\u001b[K     |▉                               | 40kB 7.2MB/s eta 0:00:01\r\u001b[K     |█                               | 51kB 4.2MB/s eta 0:00:01\r\u001b[K     |█▎                              | 61kB 4.7MB/s eta 0:00:01\r\u001b[K     |█▌                              | 71kB 4.8MB/s eta 0:00:01\r\u001b[K     |█▊                              | 81kB 5.4MB/s eta 0:00:01\r\u001b[K     |██                              | 92kB 5.6MB/s eta 0:00:01\r\u001b[K     |██▏                             | 102kB 5.6MB/s eta 0:00:01\r\u001b[K     |██▍                             | 112kB 5.6MB/s eta 0:00:01\r\u001b[K     |██▌                             | 122kB 5.6MB/s eta 0:00:01\r\u001b[K     |██▊                             | 133kB 5.6MB/s eta 0:00:01\r\u001b[K     |███                             | 143kB 5.6MB/s eta 0:00:01\r\u001b[K     |███▏                            | 153kB 5.6MB/s eta 0:00:01\r\u001b[K     |███▍                            | 163kB 5.6MB/s eta 0:00:01\r\u001b[K     |███▋                            | 174kB 5.6MB/s eta 0:00:01\r\u001b[K     |███▉                            | 184kB 5.6MB/s eta 0:00:01\r\u001b[K     |████                            | 194kB 5.6MB/s eta 0:00:01\r\u001b[K     |████▎                           | 204kB 5.6MB/s eta 0:00:01\r\u001b[K     |████▌                           | 215kB 5.6MB/s eta 0:00:01\r\u001b[K     |████▊                           | 225kB 5.6MB/s eta 0:00:01\r\u001b[K     |█████                           | 235kB 5.6MB/s eta 0:00:01\r\u001b[K     |█████                           | 245kB 5.6MB/s eta 0:00:01\r\u001b[K     |█████▎                          | 256kB 5.6MB/s eta 0:00:01\r\u001b[K     |█████▌                          | 266kB 5.6MB/s eta 0:00:01\r\u001b[K     |█████▊                          | 276kB 5.6MB/s eta 0:00:01\r\u001b[K     |██████                          | 286kB 5.6MB/s eta 0:00:01\r\u001b[K     |██████▏                         | 296kB 5.6MB/s eta 0:00:01\r\u001b[K     |██████▍                         | 307kB 5.6MB/s eta 0:00:01\r\u001b[K     |██████▋                         | 317kB 5.6MB/s eta 0:00:01\r\u001b[K     |██████▉                         | 327kB 5.6MB/s eta 0:00:01\r\u001b[K     |███████                         | 337kB 5.6MB/s eta 0:00:01\r\u001b[K     |███████▎                        | 348kB 5.6MB/s eta 0:00:01\r\u001b[K     |███████▌                        | 358kB 5.6MB/s eta 0:00:01\r\u001b[K     |███████▋                        | 368kB 5.6MB/s eta 0:00:01\r\u001b[K     |███████▉                        | 378kB 5.6MB/s eta 0:00:01\r\u001b[K     |████████                        | 389kB 5.6MB/s eta 0:00:01\r\u001b[K     |████████▎                       | 399kB 5.6MB/s eta 0:00:01\r\u001b[K     |████████▌                       | 409kB 5.6MB/s eta 0:00:01\r\u001b[K     |████████▊                       | 419kB 5.6MB/s eta 0:00:01\r\u001b[K     |█████████                       | 430kB 5.6MB/s eta 0:00:01\r\u001b[K     |█████████▏                      | 440kB 5.6MB/s eta 0:00:01\r\u001b[K     |█████████▍                      | 450kB 5.6MB/s eta 0:00:01\r\u001b[K     |█████████▋                      | 460kB 5.6MB/s eta 0:00:01\r\u001b[K     |█████████▉                      | 471kB 5.6MB/s eta 0:00:01\r\u001b[K     |██████████                      | 481kB 5.6MB/s eta 0:00:01\r\u001b[K     |██████████▏                     | 491kB 5.6MB/s eta 0:00:01\r\u001b[K     |██████████▍                     | 501kB 5.6MB/s eta 0:00:01\r\u001b[K     |██████████▋                     | 512kB 5.6MB/s eta 0:00:01\r\u001b[K     |██████████▉                     | 522kB 5.6MB/s eta 0:00:01\r\u001b[K     |███████████                     | 532kB 5.6MB/s eta 0:00:01\r\u001b[K     |███████████▎                    | 542kB 5.6MB/s eta 0:00:01\r\u001b[K     |███████████▌                    | 552kB 5.6MB/s eta 0:00:01\r\u001b[K     |███████████▊                    | 563kB 5.6MB/s eta 0:00:01\r\u001b[K     |████████████                    | 573kB 5.6MB/s eta 0:00:01\r\u001b[K     |████████████▏                   | 583kB 5.6MB/s eta 0:00:01\r\u001b[K     |████████████▍                   | 593kB 5.6MB/s eta 0:00:01\r\u001b[K     |████████████▋                   | 604kB 5.6MB/s eta 0:00:01\r\u001b[K     |████████████▊                   | 614kB 5.6MB/s eta 0:00:01\r\u001b[K     |█████████████                   | 624kB 5.6MB/s eta 0:00:01\r\u001b[K     |█████████████▏                  | 634kB 5.6MB/s eta 0:00:01\r\u001b[K     |█████████████▍                  | 645kB 5.6MB/s eta 0:00:01\r\u001b[K     |█████████████▋                  | 655kB 5.6MB/s eta 0:00:01\r\u001b[K     |█████████████▉                  | 665kB 5.6MB/s eta 0:00:01\r\u001b[K     |██████████████                  | 675kB 5.6MB/s eta 0:00:01\r\u001b[K     |██████████████▎                 | 686kB 5.6MB/s eta 0:00:01\r\u001b[K     |██████████████▌                 | 696kB 5.6MB/s eta 0:00:01\r\u001b[K     |██████████████▊                 | 706kB 5.6MB/s eta 0:00:01\r\u001b[K     |███████████████                 | 716kB 5.6MB/s eta 0:00:01\r\u001b[K     |███████████████▏                | 727kB 5.6MB/s eta 0:00:01\r\u001b[K     |███████████████▎                | 737kB 5.6MB/s eta 0:00:01\r\u001b[K     |███████████████▌                | 747kB 5.6MB/s eta 0:00:01\r\u001b[K     |███████████████▊                | 757kB 5.6MB/s eta 0:00:01\r\u001b[K     |████████████████                | 768kB 5.6MB/s eta 0:00:01\r\u001b[K     |████████████████▏               | 778kB 5.6MB/s eta 0:00:01\r\u001b[K     |████████████████▍               | 788kB 5.6MB/s eta 0:00:01\r\u001b[K     |████████████████▋               | 798kB 5.6MB/s eta 0:00:01\r\u001b[K     |████████████████▉               | 808kB 5.6MB/s eta 0:00:01\r\u001b[K     |█████████████████               | 819kB 5.6MB/s eta 0:00:01\r\u001b[K     |█████████████████▎              | 829kB 5.6MB/s eta 0:00:01\r\u001b[K     |█████████████████▌              | 839kB 5.6MB/s eta 0:00:01\r\u001b[K     |█████████████████▊              | 849kB 5.6MB/s eta 0:00:01\r\u001b[K     |█████████████████▉              | 860kB 5.6MB/s eta 0:00:01\r\u001b[K     |██████████████████              | 870kB 5.6MB/s eta 0:00:01\r\u001b[K     |██████████████████▎             | 880kB 5.6MB/s eta 0:00:01\r\u001b[K     |██████████████████▌             | 890kB 5.6MB/s eta 0:00:01\r\u001b[K     |██████████████████▊             | 901kB 5.6MB/s eta 0:00:01\r\u001b[K     |███████████████████             | 911kB 5.6MB/s eta 0:00:01\r\u001b[K     |███████████████████▏            | 921kB 5.6MB/s eta 0:00:01\r\u001b[K     |███████████████████▍            | 931kB 5.6MB/s eta 0:00:01\r\u001b[K     |███████████████████▋            | 942kB 5.6MB/s eta 0:00:01\r\u001b[K     |███████████████████▉            | 952kB 5.6MB/s eta 0:00:01\r\u001b[K     |████████████████████            | 962kB 5.6MB/s eta 0:00:01\r\u001b[K     |████████████████████▎           | 972kB 5.6MB/s eta 0:00:01\r\u001b[K     |████████████████████▍           | 983kB 5.6MB/s eta 0:00:01\r\u001b[K     |████████████████████▋           | 993kB 5.6MB/s eta 0:00:01\r\u001b[K     |████████████████████▉           | 1.0MB 5.6MB/s eta 0:00:01\r\u001b[K     |█████████████████████           | 1.0MB 5.6MB/s eta 0:00:01\r\u001b[K     |█████████████████████▎          | 1.0MB 5.6MB/s eta 0:00:01\r\u001b[K     |█████████████████████▌          | 1.0MB 5.6MB/s eta 0:00:01\r\u001b[K     |█████████████████████▊          | 1.0MB 5.6MB/s eta 0:00:01\r\u001b[K     |██████████████████████          | 1.1MB 5.6MB/s eta 0:00:01\r\u001b[K     |██████████████████████▏         | 1.1MB 5.6MB/s eta 0:00:01\r\u001b[K     |██████████████████████▍         | 1.1MB 5.6MB/s eta 0:00:01\r\u001b[K     |██████████████████████▋         | 1.1MB 5.6MB/s eta 0:00:01\r\u001b[K     |██████████████████████▉         | 1.1MB 5.6MB/s eta 0:00:01\r\u001b[K     |███████████████████████         | 1.1MB 5.6MB/s eta 0:00:01\r\u001b[K     |███████████████████████▏        | 1.1MB 5.6MB/s eta 0:00:01\r\u001b[K     |███████████████████████▍        | 1.1MB 5.6MB/s eta 0:00:01\r\u001b[K     |███████████████████████▋        | 1.1MB 5.6MB/s eta 0:00:01\r\u001b[K     |███████████████████████▉        | 1.1MB 5.6MB/s eta 0:00:01\r\u001b[K     |████████████████████████        | 1.2MB 5.6MB/s eta 0:00:01\r\u001b[K     |████████████████████████▎       | 1.2MB 5.6MB/s eta 0:00:01\r\u001b[K     |████████████████████████▌       | 1.2MB 5.6MB/s eta 0:00:01\r\u001b[K     |████████████████████████▊       | 1.2MB 5.6MB/s eta 0:00:01\r\u001b[K     |█████████████████████████       | 1.2MB 5.6MB/s eta 0:00:01\r\u001b[K     |█████████████████████████▏      | 1.2MB 5.6MB/s eta 0:00:01\r\u001b[K     |█████████████████████████▍      | 1.2MB 5.6MB/s eta 0:00:01\r\u001b[K     |█████████████████████████▌      | 1.2MB 5.6MB/s eta 0:00:01\r\u001b[K     |█████████████████████████▊      | 1.2MB 5.6MB/s eta 0:00:01\r\u001b[K     |██████████████████████████      | 1.2MB 5.6MB/s eta 0:00:01\r\u001b[K     |██████████████████████████▏     | 1.3MB 5.6MB/s eta 0:00:01\r\u001b[K     |██████████████████████████▍     | 1.3MB 5.6MB/s eta 0:00:01\r\u001b[K     |██████████████████████████▋     | 1.3MB 5.6MB/s eta 0:00:01\r\u001b[K     |██████████████████████████▉     | 1.3MB 5.6MB/s eta 0:00:01\r\u001b[K     |███████████████████████████     | 1.3MB 5.6MB/s eta 0:00:01\r\u001b[K     |███████████████████████████▎    | 1.3MB 5.6MB/s eta 0:00:01\r\u001b[K     |███████████████████████████▌    | 1.3MB 5.6MB/s eta 0:00:01\r\u001b[K     |███████████████████████████▊    | 1.3MB 5.6MB/s eta 0:00:01\r\u001b[K     |███████████████████████████▉    | 1.3MB 5.6MB/s eta 0:00:01\r\u001b[K     |████████████████████████████    | 1.4MB 5.6MB/s eta 0:00:01\r\u001b[K     |████████████████████████████▎   | 1.4MB 5.6MB/s eta 0:00:01\r\u001b[K     |████████████████████████████▌   | 1.4MB 5.6MB/s eta 0:00:01\r\u001b[K     |████████████████████████████▊   | 1.4MB 5.6MB/s eta 0:00:01\r\u001b[K     |█████████████████████████████   | 1.4MB 5.6MB/s eta 0:00:01\r\u001b[K     |█████████████████████████████▏  | 1.4MB 5.6MB/s eta 0:00:01\r\u001b[K     |█████████████████████████████▍  | 1.4MB 5.6MB/s eta 0:00:01\r\u001b[K     |█████████████████████████████▋  | 1.4MB 5.6MB/s eta 0:00:01\r\u001b[K     |█████████████████████████████▉  | 1.4MB 5.6MB/s eta 0:00:01\r\u001b[K     |██████████████████████████████  | 1.4MB 5.6MB/s eta 0:00:01\r\u001b[K     |██████████████████████████████▎ | 1.5MB 5.6MB/s eta 0:00:01\r\u001b[K     |██████████████████████████████▍ | 1.5MB 5.6MB/s eta 0:00:01\r\u001b[K     |██████████████████████████████▋ | 1.5MB 5.6MB/s eta 0:00:01\r\u001b[K     |██████████████████████████████▉ | 1.5MB 5.6MB/s eta 0:00:01\r\u001b[K     |███████████████████████████████ | 1.5MB 5.6MB/s eta 0:00:01\r\u001b[K     |███████████████████████████████▎| 1.5MB 5.6MB/s eta 0:00:01\r\u001b[K     |███████████████████████████████▌| 1.5MB 5.6MB/s eta 0:00:01\r\u001b[K     |███████████████████████████████▊| 1.5MB 5.6MB/s eta 0:00:01\r\u001b[K     |████████████████████████████████| 1.5MB 5.6MB/s eta 0:00:01\r\u001b[K     |████████████████████████████████| 1.5MB 5.6MB/s \n",
            "\u001b[?25hInstalling collected packages: pip\n",
            "  Found existing installation: pip 19.3.1\n",
            "    Uninstalling pip-19.3.1:\n",
            "      Successfully uninstalled pip-19.3.1\n",
            "Successfully installed pip-21.0.1\n",
            "Collecting akro\n",
            "  Downloading akro-0.0.8.tar.gz (17 kB)\n",
            "Requirement already satisfied: click>=2.0 in /usr/local/lib/python3.7/dist-packages (from -r garage_requirements.txt (line 2)) (7.1.2)\n",
            "Requirement already satisfied: cloudpickle in /usr/local/lib/python3.7/dist-packages (from -r garage_requirements.txt (line 3)) (1.3.0)\n",
            "Collecting cma==2.7.0\n",
            "  Downloading cma-2.7.0-py2.py3-none-any.whl (239 kB)\n",
            "\u001b[K     |████████████████████████████████| 239 kB 5.9 MB/s \n",
            "\u001b[?25hCollecting dowel==0.0.3\n",
            "  Downloading dowel-0.0.3.tar.gz (22 kB)\n",
            "Requirement already satisfied: numpy>=1.14.5 in /usr/local/lib/python3.7/dist-packages (from -r garage_requirements.txt (line 6)) (1.19.5)\n",
            "Requirement already satisfied: psutil in /usr/local/lib/python3.7/dist-packages (from -r garage_requirements.txt (line 7)) (5.4.8)\n",
            "Requirement already satisfied: python-dateutil in /usr/local/lib/python3.7/dist-packages (from -r garage_requirements.txt (line 8)) (2.8.1)\n",
            "Collecting ray\n",
            "  Downloading ray-1.2.0-cp37-cp37m-manylinux2014_x86_64.whl (47.5 MB)\n",
            "\u001b[K     |████████████████████████████████| 47.5 MB 79 kB/s \n",
            "\u001b[?25hRequirement already satisfied: scikit-image in /usr/local/lib/python3.7/dist-packages (from -r garage_requirements.txt (line 10)) (0.16.2)\n",
            "Requirement already satisfied: scipy in /usr/local/lib/python3.7/dist-packages (from -r garage_requirements.txt (line 11)) (1.4.1)\n",
            "Collecting setproctitle>=1.0\n",
            "  Downloading setproctitle-1.2.2-cp37-cp37m-manylinux1_x86_64.whl (36 kB)\n",
            "Requirement already satisfied: tensorflow>=1.14 in /usr/local/lib/python3.7/dist-packages (from -r garage_requirements.txt (line 13)) (2.4.1)\n",
            "Requirement already satisfied: tensorflow-probability>=0.11.0 in /usr/local/lib/python3.7/dist-packages (from -r garage_requirements.txt (line 14)) (0.12.1)\n",
            "Requirement already satisfied: torch!=1.5.0,>=1.0.0 in /usr/local/lib/python3.7/dist-packages (from -r garage_requirements.txt (line 15)) (1.8.0+cu101)\n",
            "Requirement already satisfied: torchvision>=0.2.1 in /usr/local/lib/python3.7/dist-packages (from -r garage_requirements.txt (line 16)) (0.9.0+cu101)\n",
            "Collecting tensorboard_logger\n",
            "  Downloading tensorboard_logger-0.1.0-py2.py3-none-any.whl (17 kB)\n",
            "Collecting wandb\n",
            "  Downloading wandb-0.10.23-py2.py3-none-any.whl (2.0 MB)\n",
            "\u001b[K     |████████████████████████████████| 2.0 MB 90.5 MB/s \n",
            "\u001b[?25hRequirement already satisfied: matplotlib in /usr/local/lib/python3.7/dist-packages (from dowel==0.0.3->-r garage_requirements.txt (line 5)) (3.2.2)\n",
            "Requirement already satisfied: tabulate in /usr/local/lib/python3.7/dist-packages (from dowel==0.0.3->-r garage_requirements.txt (line 5)) (0.8.9)\n",
            "Collecting tensorboardX\n",
            "  Downloading tensorboardX-2.1-py2.py3-none-any.whl (308 kB)\n",
            "\u001b[K     |████████████████████████████████| 308 kB 90.9 MB/s \n",
            "\u001b[?25hRequirement already satisfied: wrapt~=1.12.1 in /usr/local/lib/python3.7/dist-packages (from tensorflow>=1.14->-r garage_requirements.txt (line 13)) (1.12.1)\n",
            "Requirement already satisfied: typing-extensions~=3.7.4 in /usr/local/lib/python3.7/dist-packages (from tensorflow>=1.14->-r garage_requirements.txt (line 13)) (3.7.4.3)\n",
            "Requirement already satisfied: opt-einsum~=3.3.0 in /usr/local/lib/python3.7/dist-packages (from tensorflow>=1.14->-r garage_requirements.txt (line 13)) (3.3.0)\n",
            "Requirement already satisfied: tensorflow-estimator<2.5.0,>=2.4.0 in /usr/local/lib/python3.7/dist-packages (from tensorflow>=1.14->-r garage_requirements.txt (line 13)) (2.4.0)\n",
            "Requirement already satisfied: keras-preprocessing~=1.1.2 in /usr/local/lib/python3.7/dist-packages (from tensorflow>=1.14->-r garage_requirements.txt (line 13)) (1.1.2)\n",
            "Requirement already satisfied: flatbuffers~=1.12.0 in /usr/local/lib/python3.7/dist-packages (from tensorflow>=1.14->-r garage_requirements.txt (line 13)) (1.12)\n",
            "Requirement already satisfied: grpcio~=1.32.0 in /usr/local/lib/python3.7/dist-packages (from tensorflow>=1.14->-r garage_requirements.txt (line 13)) (1.32.0)\n",
            "Requirement already satisfied: gast==0.3.3 in /usr/local/lib/python3.7/dist-packages (from tensorflow>=1.14->-r garage_requirements.txt (line 13)) (0.3.3)\n",
            "Requirement already satisfied: google-pasta~=0.2 in /usr/local/lib/python3.7/dist-packages (from tensorflow>=1.14->-r garage_requirements.txt (line 13)) (0.2.0)\n",
            "Requirement already satisfied: h5py~=2.10.0 in /usr/local/lib/python3.7/dist-packages (from tensorflow>=1.14->-r garage_requirements.txt (line 13)) (2.10.0)\n",
            "Requirement already satisfied: termcolor~=1.1.0 in /usr/local/lib/python3.7/dist-packages (from tensorflow>=1.14->-r garage_requirements.txt (line 13)) (1.1.0)\n",
            "Requirement already satisfied: tensorboard~=2.4 in /usr/local/lib/python3.7/dist-packages (from tensorflow>=1.14->-r garage_requirements.txt (line 13)) (2.4.1)\n",
            "Requirement already satisfied: absl-py~=0.10 in /usr/local/lib/python3.7/dist-packages (from tensorflow>=1.14->-r garage_requirements.txt (line 13)) (0.10.0)\n",
            "Requirement already satisfied: wheel~=0.35 in /usr/local/lib/python3.7/dist-packages (from tensorflow>=1.14->-r garage_requirements.txt (line 13)) (0.36.2)\n",
            "Requirement already satisfied: six~=1.15.0 in /usr/local/lib/python3.7/dist-packages (from tensorflow>=1.14->-r garage_requirements.txt (line 13)) (1.15.0)\n",
            "Requirement already satisfied: astunparse~=1.6.3 in /usr/local/lib/python3.7/dist-packages (from tensorflow>=1.14->-r garage_requirements.txt (line 13)) (1.6.3)\n",
            "Requirement already satisfied: protobuf>=3.9.2 in /usr/local/lib/python3.7/dist-packages (from tensorflow>=1.14->-r garage_requirements.txt (line 13)) (3.12.4)\n",
            "Requirement already satisfied: dm-tree in /usr/local/lib/python3.7/dist-packages (from tensorflow-probability>=0.11.0->-r garage_requirements.txt (line 14)) (0.1.5)\n",
            "Requirement already satisfied: decorator in /usr/local/lib/python3.7/dist-packages (from tensorflow-probability>=0.11.0->-r garage_requirements.txt (line 14)) (4.4.2)\n",
            "Requirement already satisfied: pillow>=4.1.1 in /usr/local/lib/python3.7/dist-packages (from torchvision>=0.2.1->-r garage_requirements.txt (line 16)) (7.0.0)\n",
            "Requirement already satisfied: setuptools in /usr/local/lib/python3.7/dist-packages (from protobuf>=3.9.2->tensorflow>=1.14->-r garage_requirements.txt (line 13)) (54.1.2)\n",
            "Requirement already satisfied: google-auth-oauthlib<0.5,>=0.4.1 in /usr/local/lib/python3.7/dist-packages (from tensorboard~=2.4->tensorflow>=1.14->-r garage_requirements.txt (line 13)) (0.4.3)\n",
            "Requirement already satisfied: werkzeug>=0.11.15 in /usr/local/lib/python3.7/dist-packages (from tensorboard~=2.4->tensorflow>=1.14->-r garage_requirements.txt (line 13)) (1.0.1)\n",
            "Requirement already satisfied: requests<3,>=2.21.0 in /usr/local/lib/python3.7/dist-packages (from tensorboard~=2.4->tensorflow>=1.14->-r garage_requirements.txt (line 13)) (2.23.0)\n",
            "Requirement already satisfied: google-auth<2,>=1.6.3 in /usr/local/lib/python3.7/dist-packages (from tensorboard~=2.4->tensorflow>=1.14->-r garage_requirements.txt (line 13)) (1.27.1)\n",
            "Requirement already satisfied: tensorboard-plugin-wit>=1.6.0 in /usr/local/lib/python3.7/dist-packages (from tensorboard~=2.4->tensorflow>=1.14->-r garage_requirements.txt (line 13)) (1.8.0)\n",
            "Requirement already satisfied: markdown>=2.6.8 in /usr/local/lib/python3.7/dist-packages (from tensorboard~=2.4->tensorflow>=1.14->-r garage_requirements.txt (line 13)) (3.3.4)\n",
            "Requirement already satisfied: pyasn1-modules>=0.2.1 in /usr/local/lib/python3.7/dist-packages (from google-auth<2,>=1.6.3->tensorboard~=2.4->tensorflow>=1.14->-r garage_requirements.txt (line 13)) (0.2.8)\n",
            "Requirement already satisfied: cachetools<5.0,>=2.0.0 in /usr/local/lib/python3.7/dist-packages (from google-auth<2,>=1.6.3->tensorboard~=2.4->tensorflow>=1.14->-r garage_requirements.txt (line 13)) (4.2.1)\n",
            "Requirement already satisfied: rsa<5,>=3.1.4 in /usr/local/lib/python3.7/dist-packages (from google-auth<2,>=1.6.3->tensorboard~=2.4->tensorflow>=1.14->-r garage_requirements.txt (line 13)) (4.7.2)\n",
            "Requirement already satisfied: requests-oauthlib>=0.7.0 in /usr/local/lib/python3.7/dist-packages (from google-auth-oauthlib<0.5,>=0.4.1->tensorboard~=2.4->tensorflow>=1.14->-r garage_requirements.txt (line 13)) (1.3.0)\n",
            "Requirement already satisfied: importlib-metadata in /usr/local/lib/python3.7/dist-packages (from markdown>=2.6.8->tensorboard~=2.4->tensorflow>=1.14->-r garage_requirements.txt (line 13)) (3.7.2)\n",
            "Requirement already satisfied: pyasn1<0.5.0,>=0.4.6 in /usr/local/lib/python3.7/dist-packages (from pyasn1-modules>=0.2.1->google-auth<2,>=1.6.3->tensorboard~=2.4->tensorflow>=1.14->-r garage_requirements.txt (line 13)) (0.4.8)\n",
            "Requirement already satisfied: certifi>=2017.4.17 in /usr/local/lib/python3.7/dist-packages (from requests<3,>=2.21.0->tensorboard~=2.4->tensorflow>=1.14->-r garage_requirements.txt (line 13)) (2020.12.5)\n",
            "Requirement already satisfied: idna<3,>=2.5 in /usr/local/lib/python3.7/dist-packages (from requests<3,>=2.21.0->tensorboard~=2.4->tensorflow>=1.14->-r garage_requirements.txt (line 13)) (2.10)\n",
            "Requirement already satisfied: chardet<4,>=3.0.2 in /usr/local/lib/python3.7/dist-packages (from requests<3,>=2.21.0->tensorboard~=2.4->tensorflow>=1.14->-r garage_requirements.txt (line 13)) (3.0.4)\n",
            "Requirement already satisfied: urllib3!=1.25.0,!=1.25.1,<1.26,>=1.21.1 in /usr/local/lib/python3.7/dist-packages (from requests<3,>=2.21.0->tensorboard~=2.4->tensorflow>=1.14->-r garage_requirements.txt (line 13)) (1.24.3)\n",
            "Requirement already satisfied: oauthlib>=3.0.0 in /usr/local/lib/python3.7/dist-packages (from requests-oauthlib>=0.7.0->google-auth-oauthlib<0.5,>=0.4.1->tensorboard~=2.4->tensorflow>=1.14->-r garage_requirements.txt (line 13)) (3.1.0)\n",
            "Requirement already satisfied: gym>=0.12.4 in /usr/local/lib/python3.7/dist-packages (from akro->-r garage_requirements.txt (line 1)) (0.17.3)\n",
            "Requirement already satisfied: pyglet<=1.5.0,>=1.4.0 in /usr/local/lib/python3.7/dist-packages (from gym>=0.12.4->akro->-r garage_requirements.txt (line 1)) (1.5.0)\n",
            "Requirement already satisfied: future in /usr/local/lib/python3.7/dist-packages (from pyglet<=1.5.0,>=1.4.0->gym>=0.12.4->akro->-r garage_requirements.txt (line 1)) (0.16.0)\n",
            "Requirement already satisfied: filelock in /usr/local/lib/python3.7/dist-packages (from ray->-r garage_requirements.txt (line 9)) (3.0.12)\n",
            "Collecting aiohttp\n",
            "  Downloading aiohttp-3.7.4.post0-cp37-cp37m-manylinux2014_x86_64.whl (1.3 MB)\n",
            "\u001b[K     |████████████████████████████████| 1.3 MB 64.4 MB/s \n",
            "\u001b[?25hRequirement already satisfied: pyyaml in /usr/local/lib/python3.7/dist-packages (from ray->-r garage_requirements.txt (line 9)) (3.13)\n",
            "Collecting colorama\n",
            "  Downloading colorama-0.4.4-py2.py3-none-any.whl (16 kB)\n",
            "Collecting colorful\n",
            "  Downloading colorful-0.5.4-py2.py3-none-any.whl (201 kB)\n",
            "\u001b[K     |████████████████████████████████| 201 kB 75.7 MB/s \n",
            "\u001b[?25hCollecting py-spy>=0.2.0\n",
            "  Downloading py_spy-0.3.5-py2.py3-none-manylinux1_x86_64.whl (3.1 MB)\n",
            "\u001b[K     |████████████████████████████████| 3.1 MB 65.1 MB/s \n",
            "\u001b[?25hRequirement already satisfied: jsonschema in /usr/local/lib/python3.7/dist-packages (from ray->-r garage_requirements.txt (line 9)) (2.6.0)\n",
            "Collecting redis>=3.5.0\n",
            "  Downloading redis-3.5.3-py2.py3-none-any.whl (72 kB)\n",
            "\u001b[K     |████████████████████████████████| 72 kB 633 kB/s \n",
            "\u001b[?25hCollecting aioredis\n",
            "  Downloading aioredis-1.3.1-py3-none-any.whl (65 kB)\n",
            "\u001b[K     |████████████████████████████████| 65 kB 4.0 MB/s \n",
            "\u001b[?25hCollecting gpustat\n",
            "  Downloading gpustat-0.6.0.tar.gz (78 kB)\n",
            "\u001b[K     |████████████████████████████████| 78 kB 7.7 MB/s \n",
            "\u001b[?25hRequirement already satisfied: msgpack<2.0.0,>=1.0.0 in /usr/local/lib/python3.7/dist-packages (from ray->-r garage_requirements.txt (line 9)) (1.0.2)\n",
            "Collecting aiohttp-cors\n",
            "  Downloading aiohttp_cors-0.7.0-py3-none-any.whl (27 kB)\n",
            "Requirement already satisfied: prometheus-client>=0.7.1 in /usr/local/lib/python3.7/dist-packages (from ray->-r garage_requirements.txt (line 9)) (0.9.0)\n",
            "Collecting opencensus\n",
            "  Downloading opencensus-0.7.12-py2.py3-none-any.whl (127 kB)\n",
            "\u001b[K     |████████████████████████████████| 127 kB 74.0 MB/s \n",
            "\u001b[?25hRequirement already satisfied: networkx>=2.0 in /usr/local/lib/python3.7/dist-packages (from scikit-image->-r garage_requirements.txt (line 10)) (2.5)\n",
            "Requirement already satisfied: PyWavelets>=0.4.0 in /usr/local/lib/python3.7/dist-packages (from scikit-image->-r garage_requirements.txt (line 10)) (1.1.1)\n",
            "Requirement already satisfied: imageio>=2.3.0 in /usr/local/lib/python3.7/dist-packages (from scikit-image->-r garage_requirements.txt (line 10)) (2.4.1)\n",
            "Requirement already satisfied: kiwisolver>=1.0.1 in /usr/local/lib/python3.7/dist-packages (from matplotlib->dowel==0.0.3->-r garage_requirements.txt (line 5)) (1.3.1)\n",
            "Requirement already satisfied: cycler>=0.10 in /usr/local/lib/python3.7/dist-packages (from matplotlib->dowel==0.0.3->-r garage_requirements.txt (line 5)) (0.10.0)\n",
            "Requirement already satisfied: pyparsing!=2.0.4,!=2.1.2,!=2.1.6,>=2.0.1 in /usr/local/lib/python3.7/dist-packages (from matplotlib->dowel==0.0.3->-r garage_requirements.txt (line 5)) (2.4.7)\n",
            "Requirement already satisfied: promise<3,>=2.0 in /usr/local/lib/python3.7/dist-packages (from wandb->-r garage_requirements.txt (line 18)) (2.3)\n",
            "Collecting pathtools\n",
            "  Downloading pathtools-0.1.2.tar.gz (11 kB)\n",
            "Collecting shortuuid>=0.5.0\n",
            "  Downloading shortuuid-1.0.1-py3-none-any.whl (7.5 kB)\n",
            "Collecting configparser>=3.8.1\n",
            "  Downloading configparser-5.0.2-py3-none-any.whl (19 kB)\n",
            "Collecting GitPython>=1.0.0\n",
            "  Downloading GitPython-3.1.14-py3-none-any.whl (159 kB)\n",
            "\u001b[K     |████████████████████████████████| 159 kB 86.4 MB/s \n",
            "\u001b[?25hCollecting subprocess32>=3.5.3\n",
            "  Downloading subprocess32-3.5.4.tar.gz (97 kB)\n",
            "\u001b[K     |████████████████████████████████| 97 kB 8.2 MB/s \n",
            "\u001b[?25hCollecting sentry-sdk>=0.4.0\n",
            "  Downloading sentry_sdk-1.0.0-py2.py3-none-any.whl (131 kB)\n",
            "\u001b[K     |████████████████████████████████| 131 kB 88.9 MB/s \n",
            "\u001b[?25hCollecting docker-pycreds>=0.4.0\n",
            "  Downloading docker_pycreds-0.4.0-py2.py3-none-any.whl (9.0 kB)\n",
            "Collecting gitdb<5,>=4.0.1\n",
            "  Downloading gitdb-4.0.7-py3-none-any.whl (63 kB)\n",
            "\u001b[K     |████████████████████████████████| 63 kB 2.0 MB/s \n",
            "\u001b[?25hCollecting smmap<5,>=3.0.1\n",
            "  Downloading smmap-4.0.0-py2.py3-none-any.whl (24 kB)\n",
            "Collecting multidict<7.0,>=4.5\n",
            "  Downloading multidict-5.1.0-cp37-cp37m-manylinux2014_x86_64.whl (142 kB)\n",
            "\u001b[K     |████████████████████████████████| 142 kB 94.6 MB/s \n",
            "\u001b[?25hCollecting async-timeout<4.0,>=3.0\n",
            "  Downloading async_timeout-3.0.1-py3-none-any.whl (8.2 kB)\n",
            "Collecting yarl<2.0,>=1.0\n",
            "  Downloading yarl-1.6.3-cp37-cp37m-manylinux2014_x86_64.whl (294 kB)\n",
            "\u001b[K     |████████████████████████████████| 294 kB 89.9 MB/s \n",
            "\u001b[?25hRequirement already satisfied: attrs>=17.3.0 in /usr/local/lib/python3.7/dist-packages (from aiohttp->ray->-r garage_requirements.txt (line 9)) (20.3.0)\n",
            "Collecting hiredis\n",
            "  Downloading hiredis-1.1.0-cp37-cp37m-manylinux2010_x86_64.whl (62 kB)\n",
            "\u001b[K     |████████████████████████████████| 62 kB 777 kB/s \n",
            "\u001b[?25hRequirement already satisfied: nvidia-ml-py3>=7.352.0 in /usr/local/lib/python3.7/dist-packages (from gpustat->ray->-r garage_requirements.txt (line 9)) (7.352.0)\n",
            "Collecting blessings>=1.6\n",
            "  Downloading blessings-1.7-py3-none-any.whl (18 kB)\n",
            "Requirement already satisfied: zipp>=0.5 in /usr/local/lib/python3.7/dist-packages (from importlib-metadata->markdown>=2.6.8->tensorboard~=2.4->tensorflow>=1.14->-r garage_requirements.txt (line 13)) (3.4.1)\n",
            "Requirement already satisfied: google-api-core<2.0.0,>=1.0.0 in /usr/local/lib/python3.7/dist-packages (from opencensus->ray->-r garage_requirements.txt (line 9)) (1.26.1)\n",
            "Collecting opencensus-context==0.1.2\n",
            "  Downloading opencensus_context-0.1.2-py2.py3-none-any.whl (4.4 kB)\n",
            "Requirement already satisfied: packaging>=14.3 in /usr/local/lib/python3.7/dist-packages (from google-api-core<2.0.0,>=1.0.0->opencensus->ray->-r garage_requirements.txt (line 9)) (20.9)\n",
            "Requirement already satisfied: googleapis-common-protos<2.0dev,>=1.6.0 in /usr/local/lib/python3.7/dist-packages (from google-api-core<2.0.0,>=1.0.0->opencensus->ray->-r garage_requirements.txt (line 9)) (1.53.0)\n",
            "Requirement already satisfied: pytz in /usr/local/lib/python3.7/dist-packages (from google-api-core<2.0.0,>=1.0.0->opencensus->ray->-r garage_requirements.txt (line 9)) (2018.9)\n",
            "Building wheels for collected packages: dowel, akro, subprocess32, gpustat, pathtools\n",
            "  Building wheel for dowel (setup.py) ... \u001b[?25l\u001b[?25hdone\n",
            "  Created wheel for dowel: filename=dowel-0.0.3-py3-none-any.whl size=13012 sha256=08a40be5aab65547f2cbbc6e5b6a9f8b4cc71655e9e2c0ae75872f7d0bfb08cb\n",
            "  Stored in directory: /root/.cache/pip/wheels/49/06/28/72e80c0c8be293503952b3a3fbd0902d00a615229b372b2451\n",
            "  Building wheel for akro (setup.py) ... \u001b[?25l\u001b[?25hdone\n",
            "  Created wheel for akro: filename=akro-0.0.8-py3-none-any.whl size=11136 sha256=62ef7d562372b149f4f1498556efbd280b4f290dcfced2aa766f010a8e3226ce\n",
            "  Stored in directory: /root/.cache/pip/wheels/fa/8b/e3/91fe8a152629ca652b971172afb5600aa666f34cfd64968f68\n",
            "  Building wheel for subprocess32 (setup.py) ... \u001b[?25l\u001b[?25hdone\n",
            "  Created wheel for subprocess32: filename=subprocess32-3.5.4-py3-none-any.whl size=6488 sha256=ff37be0be5e88281f537cc17418186780659e98d185b5135d615c5827816922c\n",
            "  Stored in directory: /root/.cache/pip/wheels/50/ca/fa/8fca8d246e64f19488d07567547ddec8eb084e8c0d7a59226a\n",
            "  Building wheel for gpustat (setup.py) ... \u001b[?25l\u001b[?25hdone\n",
            "  Created wheel for gpustat: filename=gpustat-0.6.0-py3-none-any.whl size=12617 sha256=24a359dbb35d39352c172f727f032afae5b0743cc2ecded5e23d73e91b74440e\n",
            "  Stored in directory: /root/.cache/pip/wheels/e6/67/af/f1ad15974b8fd95f59a63dbf854483ebe5c7a46a93930798b8\n",
            "  Building wheel for pathtools (setup.py) ... \u001b[?25l\u001b[?25hdone\n",
            "  Created wheel for pathtools: filename=pathtools-0.1.2-py3-none-any.whl size=8784 sha256=90db20d938e64dc1e8fbde3f33cfa34323abb15d8b99e8ff4aa1de59cd6268c3\n",
            "  Stored in directory: /root/.cache/pip/wheels/3e/31/09/fa59cef12cdcfecc627b3d24273699f390e71828921b2cbba2\n",
            "Successfully built dowel akro subprocess32 gpustat pathtools\n",
            "Installing collected packages: multidict, yarl, smmap, async-timeout, opencensus-context, hiredis, gitdb, blessings, aiohttp, tensorboardX, subprocess32, shortuuid, sentry-sdk, redis, py-spy, pathtools, opencensus, gpustat, GitPython, docker-pycreds, configparser, colorful, colorama, aioredis, aiohttp-cors, wandb, tensorboard-logger, setproctitle, ray, dowel, cma, akro\n",
            "Successfully installed GitPython-3.1.14 aiohttp-3.7.4.post0 aiohttp-cors-0.7.0 aioredis-1.3.1 akro-0.0.8 async-timeout-3.0.1 blessings-1.7 cma-2.7.0 colorama-0.4.4 colorful-0.5.4 configparser-5.0.2 docker-pycreds-0.4.0 dowel-0.0.3 gitdb-4.0.7 gpustat-0.6.0 hiredis-1.1.0 multidict-5.1.0 opencensus-0.7.12 opencensus-context-0.1.2 pathtools-0.1.2 py-spy-0.3.5 ray-1.2.0 redis-3.5.3 sentry-sdk-1.0.0 setproctitle-1.2.2 shortuuid-1.0.1 smmap-4.0.0 subprocess32-3.5.4 tensorboard-logger-0.1.0 tensorboardX-2.1 wandb-0.10.23 yarl-1.6.3\n"
          ],
          "name": "stdout"
        }
      ]
    },
    {
      "cell_type": "code",
      "metadata": {
        "colab": {
          "base_uri": "https://localhost:8080/"
        },
        "id": "dGZLM66tz6lS",
        "outputId": "e8b47479-6df4-4961-e6e1-ba5be790e4da"
      },
      "source": [
        "!python run.py --graph_size 20 --batch_size 512 --problem cvrp --baseline rollout --run_name 'vrp100_rollout' --epoch_size 12800 --n_epochs 1"
      ],
      "execution_count": 73,
      "outputs": [
        {
          "output_type": "stream",
          "text": [
            "2021-03-28 22:18:56.295005: I tensorflow/stream_executor/platform/default/dso_loader.cc:49] Successfully opened dynamic library libcudart.so.11.0\n",
            "{'baseline': 'rollout',\n",
            " 'batch_size': 512,\n",
            " 'bl_alpha': 0.05,\n",
            " 'bl_warmup_epochs': 1,\n",
            " 'checkpoint_encoder': False,\n",
            " 'checkpoint_epochs': 1,\n",
            " 'data_distribution': None,\n",
            " 'embedding_dim': 128,\n",
            " 'epoch_size': 12800,\n",
            " 'epoch_start': 0,\n",
            " 'eval_batch_size': 1024,\n",
            " 'eval_only': False,\n",
            " 'exp_beta': 0.8,\n",
            " 'graph_size': 20,\n",
            " 'hidden_dim': 128,\n",
            " 'load_path': None,\n",
            " 'log_dir': 'logs',\n",
            " 'log_step': 50,\n",
            " 'lr_critic': 0.0001,\n",
            " 'lr_decay': 1.0,\n",
            " 'lr_model': 0.0001,\n",
            " 'max_grad_norm': 1.0,\n",
            " 'model': 'attention',\n",
            " 'n_encode_layers': 3,\n",
            " 'n_epochs': 1,\n",
            " 'no_cuda': False,\n",
            " 'no_progress_bar': False,\n",
            " 'no_tensorboard': False,\n",
            " 'normalization': 'batch',\n",
            " 'output_dir': 'outputs',\n",
            " 'problem': 'cvrp',\n",
            " 'resume': None,\n",
            " 'run_name': 'vrp100_rollout_20210328T221858',\n",
            " 'save_dir': 'outputs/cvrp_20/vrp100_rollout_20210328T221858',\n",
            " 'seed': 1234,\n",
            " 'shrink_size': None,\n",
            " 'tanh_clipping': 10.0,\n",
            " 'use_cuda': True,\n",
            " 'val_dataset': None,\n",
            " 'val_size': 10000}\n",
            "Evaluating baseline model on evaluation dataset\n",
            "100% 10/10 [00:00<00:00, 11.14it/s]\n",
            "Start train epoch 0, lr=0.0001 for run vrp100_rollout_20210328T221858\n",
            "  0% 0/25 [00:00<?, ?it/s]---Checking data Sizes---\n",
            "Batch ID: 0 -> loc -> torch.Size([512, 20, 2])\n",
            "Batch ID: 0 -> demand -> torch.Size([512, 20])\n",
            "Batch ID: 0 -> depot -> torch.Size([512, 2])\n",
            "Batch ID: 0 -> Cost -> torch.Size([512])\n",
            "[[13.498642 ]\n",
            " [17.401833 ]\n",
            " [11.947242 ]\n",
            " [13.206553 ]\n",
            " [13.413163 ]\n",
            " [21.499075 ]\n",
            " [11.994821 ]\n",
            " [12.5777   ]\n",
            " [15.946267 ]\n",
            " [15.317905 ]\n",
            " [14.678754 ]\n",
            " [13.74283  ]\n",
            " [11.968538 ]\n",
            " [15.831237 ]\n",
            " [16.765339 ]\n",
            " [13.761236 ]\n",
            " [12.790789 ]\n",
            " [10.7368765]\n",
            " [13.785866 ]\n",
            " [12.101858 ]\n",
            " [12.410685 ]\n",
            " [10.762923 ]\n",
            " [13.75728  ]\n",
            " [14.657992 ]\n",
            " [15.0620575]\n",
            " [11.7645   ]\n",
            " [12.896156 ]\n",
            " [14.702884 ]\n",
            " [11.642081 ]\n",
            " [14.777045 ]\n",
            " [10.619675 ]\n",
            " [12.682706 ]\n",
            " [12.5677595]\n",
            " [12.609407 ]\n",
            " [19.893991 ]\n",
            " [12.851389 ]\n",
            " [21.77179  ]\n",
            " [11.144424 ]\n",
            " [14.369278 ]\n",
            " [15.018573 ]\n",
            " [11.490541 ]\n",
            " [14.452163 ]\n",
            " [14.633088 ]\n",
            " [10.40095  ]\n",
            " [19.394175 ]\n",
            " [13.70173  ]\n",
            " [13.3097   ]\n",
            " [12.182477 ]\n",
            " [17.359297 ]\n",
            " [12.822715 ]\n",
            " [12.609313 ]\n",
            " [14.898483 ]\n",
            " [17.591217 ]\n",
            " [13.458458 ]\n",
            " [19.24988  ]\n",
            " [14.277202 ]\n",
            " [16.770971 ]\n",
            " [14.627275 ]\n",
            " [11.540367 ]\n",
            " [12.965997 ]\n",
            " [12.953987 ]\n",
            " [13.389791 ]\n",
            " [11.33735  ]\n",
            " [10.7325945]\n",
            " [23.63687  ]\n",
            " [11.9540205]\n",
            " [16.294655 ]\n",
            " [ 9.594536 ]\n",
            " [11.923904 ]\n",
            " [15.349358 ]\n",
            " [15.912774 ]\n",
            " [11.791579 ]\n",
            " [14.574507 ]\n",
            " [11.1233   ]\n",
            " [11.995627 ]\n",
            " [12.803367 ]\n",
            " [11.083368 ]\n",
            " [16.965027 ]\n",
            " [10.040048 ]\n",
            " [28.936592 ]\n",
            " [11.86226  ]\n",
            " [12.191701 ]\n",
            " [12.410314 ]\n",
            " [15.302967 ]\n",
            " [14.874481 ]\n",
            " [21.43355  ]\n",
            " [13.375264 ]\n",
            " [16.658016 ]\n",
            " [13.857543 ]\n",
            " [16.642889 ]\n",
            " [14.287694 ]\n",
            " [11.085713 ]\n",
            " [12.230105 ]\n",
            " [13.198949 ]\n",
            " [12.402836 ]\n",
            " [21.48682  ]\n",
            " [11.983589 ]\n",
            " [18.631838 ]\n",
            " [10.551277 ]\n",
            " [10.14914  ]\n",
            " [10.700226 ]\n",
            " [13.430909 ]\n",
            " [25.306362 ]\n",
            " [12.666044 ]\n",
            " [15.316907 ]\n",
            " [13.200594 ]\n",
            " [13.071728 ]\n",
            " [12.462577 ]\n",
            " [12.703848 ]\n",
            " [13.792319 ]\n",
            " [17.84521  ]\n",
            " [13.087062 ]\n",
            " [14.601995 ]\n",
            " [11.56903  ]\n",
            " [13.508939 ]\n",
            " [12.687279 ]\n",
            " [11.548616 ]\n",
            " [19.061739 ]\n",
            " [11.658152 ]\n",
            " [13.135428 ]\n",
            " [15.350127 ]\n",
            " [12.800932 ]\n",
            " [11.661896 ]\n",
            " [16.198444 ]\n",
            " [14.023318 ]\n",
            " [23.17791  ]\n",
            " [13.858967 ]\n",
            " [13.527384 ]\n",
            " [11.862782 ]\n",
            " [13.287318 ]\n",
            " [11.777165 ]\n",
            " [18.823524 ]\n",
            " [13.254277 ]\n",
            " [12.874344 ]\n",
            " [16.087023 ]\n",
            " [11.737675 ]\n",
            " [ 9.271603 ]\n",
            " [14.538009 ]\n",
            " [13.523886 ]\n",
            " [19.045017 ]\n",
            " [11.95654  ]\n",
            " [12.833439 ]\n",
            " [15.502607 ]\n",
            " [12.481927 ]\n",
            " [14.479648 ]\n",
            " [13.885348 ]\n",
            " [11.474991 ]\n",
            " [15.450503 ]\n",
            " [14.490146 ]\n",
            " [13.019058 ]\n",
            " [14.722348 ]\n",
            " [11.596771 ]\n",
            " [12.066935 ]\n",
            " [11.194754 ]\n",
            " [12.718089 ]\n",
            " [12.5473995]\n",
            " [12.112765 ]\n",
            " [15.261873 ]\n",
            " [12.402555 ]\n",
            " [11.721209 ]\n",
            " [19.611828 ]\n",
            " [12.2575655]\n",
            " [ 9.949559 ]\n",
            " [13.58831  ]\n",
            " [12.527577 ]\n",
            " [12.216285 ]\n",
            " [12.066767 ]\n",
            " [ 9.951047 ]\n",
            " [ 9.816224 ]\n",
            " [10.806852 ]\n",
            " [18.602812 ]\n",
            " [15.882207 ]\n",
            " [13.948488 ]\n",
            " [13.161253 ]\n",
            " [13.569271 ]\n",
            " [12.647547 ]\n",
            " [ 9.786345 ]\n",
            " [21.699808 ]\n",
            " [12.773366 ]\n",
            " [12.008924 ]\n",
            " [12.878492 ]\n",
            " [13.297561 ]\n",
            " [11.480657 ]\n",
            " [14.06825  ]\n",
            " [11.506279 ]\n",
            " [10.324809 ]\n",
            " [12.941519 ]\n",
            " [14.539907 ]\n",
            " [14.415638 ]\n",
            " [13.494183 ]\n",
            " [11.106296 ]\n",
            " [13.463324 ]\n",
            " [15.292404 ]\n",
            " [11.744008 ]\n",
            " [20.74221  ]\n",
            " [22.12346  ]\n",
            " [17.671146 ]\n",
            " [13.258863 ]\n",
            " [16.736597 ]\n",
            " [14.766444 ]\n",
            " [13.895402 ]\n",
            " [11.176327 ]\n",
            " [12.852551 ]\n",
            " [11.448669 ]\n",
            " [19.221624 ]\n",
            " [10.885946 ]\n",
            " [14.007961 ]\n",
            " [11.38064  ]\n",
            " [13.8473015]\n",
            " [13.304748 ]\n",
            " [11.177082 ]\n",
            " [14.176804 ]\n",
            " [15.899059 ]\n",
            " [14.683313 ]\n",
            " [14.18097  ]\n",
            " [17.703041 ]\n",
            " [14.376158 ]\n",
            " [15.737013 ]\n",
            " [13.650731 ]\n",
            " [13.229043 ]\n",
            " [14.802375 ]\n",
            " [12.757625 ]\n",
            " [17.108936 ]\n",
            " [13.216597 ]\n",
            " [10.850473 ]\n",
            " [13.590222 ]\n",
            " [10.930364 ]\n",
            " [17.052458 ]\n",
            " [17.059086 ]\n",
            " [17.316507 ]\n",
            " [15.069662 ]\n",
            " [26.219858 ]\n",
            " [13.350333 ]\n",
            " [13.47312  ]\n",
            " [13.520697 ]\n",
            " [13.520571 ]\n",
            " [19.411524 ]\n",
            " [17.258892 ]\n",
            " [11.285402 ]\n",
            " [13.043155 ]\n",
            " [16.258814 ]\n",
            " [14.038022 ]\n",
            " [13.414358 ]\n",
            " [14.552241 ]\n",
            " [12.934902 ]\n",
            " [18.776545 ]\n",
            " [29.17819  ]\n",
            " [11.858898 ]\n",
            " [12.926957 ]\n",
            " [13.594782 ]\n",
            " [14.103695 ]\n",
            " [12.356192 ]\n",
            " [12.525165 ]\n",
            " [13.266482 ]\n",
            " [12.193067 ]\n",
            " [13.874535 ]\n",
            " [13.245888 ]\n",
            " [22.771963 ]\n",
            " [13.2266245]\n",
            " [10.986337 ]\n",
            " [14.481791 ]\n",
            " [13.09766  ]\n",
            " [12.577255 ]\n",
            " [20.08487  ]\n",
            " [14.834361 ]\n",
            " [13.950517 ]\n",
            " [12.6507225]\n",
            " [12.112506 ]\n",
            " [14.826543 ]\n",
            " [10.599147 ]\n",
            " [18.886951 ]\n",
            " [11.2358055]\n",
            " [12.133223 ]\n",
            " [10.475651 ]\n",
            " [11.7910385]\n",
            " [15.092649 ]\n",
            " [13.225143 ]\n",
            " [11.721183 ]\n",
            " [14.048432 ]\n",
            " [13.135336 ]\n",
            " [14.279102 ]\n",
            " [13.53279  ]\n",
            " [10.281163 ]\n",
            " [13.056351 ]\n",
            " [14.187516 ]\n",
            " [17.995966 ]\n",
            " [13.293536 ]\n",
            " [11.988537 ]\n",
            " [14.496805 ]\n",
            " [14.76554  ]\n",
            " [13.57268  ]\n",
            " [12.169789 ]\n",
            " [13.724308 ]\n",
            " [20.286772 ]\n",
            " [11.122627 ]\n",
            " [13.652709 ]\n",
            " [19.17829  ]\n",
            " [15.836616 ]\n",
            " [17.713398 ]\n",
            " [15.021738 ]\n",
            " [12.668402 ]\n",
            " [16.07969  ]\n",
            " [13.196631 ]\n",
            " [22.429409 ]\n",
            " [14.945777 ]\n",
            " [16.19274  ]\n",
            " [12.9095955]\n",
            " [14.570118 ]\n",
            " [14.005849 ]\n",
            " [14.772161 ]\n",
            " [18.886604 ]\n",
            " [14.157403 ]\n",
            " [14.559769 ]\n",
            " [13.773546 ]\n",
            " [13.985661 ]\n",
            " [27.638758 ]\n",
            " [15.776704 ]\n",
            " [13.342733 ]\n",
            " [16.87756  ]\n",
            " [14.1737995]\n",
            " [10.167189 ]\n",
            " [13.571695 ]\n",
            " [12.851603 ]\n",
            " [12.289897 ]\n",
            " [10.7423115]\n",
            " [12.128843 ]\n",
            " [11.4125185]\n",
            " [12.477812 ]\n",
            " [22.734903 ]\n",
            " [14.2152195]\n",
            " [13.458521 ]\n",
            " [29.332748 ]\n",
            " [14.455051 ]\n",
            " [13.881064 ]\n",
            " [16.631481 ]\n",
            " [16.334873 ]\n",
            " [11.9541855]\n",
            " [16.818415 ]\n",
            " [18.22882  ]\n",
            " [11.829984 ]\n",
            " [13.876572 ]\n",
            " [13.482574 ]\n",
            " [13.775156 ]\n",
            " [14.308247 ]\n",
            " [20.72295  ]\n",
            " [13.036143 ]\n",
            " [18.134676 ]\n",
            " [10.076598 ]\n",
            " [14.316593 ]\n",
            " [12.54756  ]\n",
            " [14.911207 ]\n",
            " [ 8.899103 ]\n",
            " [28.621273 ]\n",
            " [13.2573595]\n",
            " [18.900726 ]\n",
            " [13.995535 ]\n",
            " [11.719153 ]\n",
            " [13.707198 ]\n",
            " [20.128601 ]\n",
            " [17.224726 ]\n",
            " [13.313939 ]\n",
            " [12.765032 ]\n",
            " [13.277357 ]\n",
            " [11.291983 ]\n",
            " [16.699045 ]\n",
            " [12.500741 ]\n",
            " [13.6251335]\n",
            " [14.735239 ]\n",
            " [12.106558 ]\n",
            " [13.822782 ]\n",
            " [14.61026  ]\n",
            " [11.390556 ]\n",
            " [11.170427 ]\n",
            " [11.824776 ]\n",
            " [12.648627 ]\n",
            " [13.515507 ]\n",
            " [11.991906 ]\n",
            " [12.598816 ]\n",
            " [14.650207 ]\n",
            " [ 9.773994 ]\n",
            " [14.670752 ]\n",
            " [12.843422 ]\n",
            " [10.187963 ]\n",
            " [ 8.0577545]\n",
            " [ 9.714996 ]\n",
            " [12.3954735]\n",
            " [17.113628 ]\n",
            " [12.338799 ]\n",
            " [12.000475 ]\n",
            " [13.424533 ]\n",
            " [12.36549  ]\n",
            " [12.012982 ]\n",
            " [12.835932 ]\n",
            " [11.545823 ]\n",
            " [11.362603 ]\n",
            " [10.543766 ]\n",
            " [12.550652 ]\n",
            " [14.931523 ]\n",
            " [20.785984 ]\n",
            " [15.241912 ]\n",
            " [16.124496 ]\n",
            " [12.814756 ]\n",
            " [13.901963 ]\n",
            " [13.381603 ]\n",
            " [11.194975 ]\n",
            " [11.849806 ]\n",
            " [13.507612 ]\n",
            " [11.496947 ]\n",
            " [ 9.937258 ]\n",
            " [16.40695  ]\n",
            " [10.391436 ]\n",
            " [19.473822 ]\n",
            " [10.006807 ]\n",
            " [15.366335 ]\n",
            " [15.618373 ]\n",
            " [13.414732 ]\n",
            " [13.279272 ]\n",
            " [15.036359 ]\n",
            " [10.231013 ]\n",
            " [18.097338 ]\n",
            " [15.320193 ]\n",
            " [14.086845 ]\n",
            " [14.336453 ]\n",
            " [12.665545 ]\n",
            " [15.399727 ]\n",
            " [12.210491 ]\n",
            " [19.720058 ]\n",
            " [10.759345 ]\n",
            " [12.717795 ]\n",
            " [13.006562 ]\n",
            " [12.359241 ]\n",
            " [16.88876  ]\n",
            " [13.131401 ]\n",
            " [11.661995 ]\n",
            " [12.942955 ]\n",
            " [13.738499 ]\n",
            " [14.795654 ]\n",
            " [18.58657  ]\n",
            " [14.405265 ]\n",
            " [15.743682 ]\n",
            " [18.047668 ]\n",
            " [12.838327 ]\n",
            " [13.285162 ]\n",
            " [10.358059 ]\n",
            " [19.995232 ]\n",
            " [17.63566  ]\n",
            " [13.9066515]\n",
            " [16.174364 ]\n",
            " [15.111812 ]\n",
            " [12.337813 ]\n",
            " [22.903267 ]\n",
            " [20.685066 ]\n",
            " [18.607244 ]\n",
            " [14.130286 ]\n",
            " [11.43724  ]\n",
            " [12.810449 ]\n",
            " [11.501689 ]\n",
            " [12.628869 ]\n",
            " [13.7875595]\n",
            " [13.22948  ]\n",
            " [13.304382 ]\n",
            " [15.971464 ]\n",
            " [18.770926 ]\n",
            " [11.232508 ]\n",
            " [10.798757 ]\n",
            " [11.149436 ]\n",
            " [11.71498  ]\n",
            " [14.0636425]\n",
            " [19.15735  ]\n",
            " [15.682552 ]\n",
            " [10.869032 ]\n",
            " [19.64404  ]\n",
            " [13.925041 ]\n",
            " [12.451704 ]\n",
            " [13.693466 ]\n",
            " [10.494767 ]\n",
            " [14.490488 ]\n",
            " [14.02695  ]\n",
            " [17.091772 ]\n",
            " [13.83686  ]\n",
            " [20.56507  ]\n",
            " [11.1384945]\n",
            " [14.715672 ]\n",
            " [13.958565 ]\n",
            " [11.335533 ]\n",
            " [17.081675 ]\n",
            " [12.000576 ]\n",
            " [15.350837 ]\n",
            " [13.290574 ]\n",
            " [14.9135275]\n",
            " [12.445642 ]\n",
            " [11.126337 ]\n",
            " [14.193607 ]\n",
            " [14.167575 ]\n",
            " [13.377131 ]\n",
            " [10.447378 ]\n",
            " [15.236519 ]\n",
            " [10.797907 ]\n",
            " [ 9.729916 ]\n",
            " [11.808702 ]\n",
            " [15.375509 ]\n",
            " [12.892981 ]\n",
            " [16.5816   ]\n",
            " [15.479607 ]\n",
            " [13.896823 ]\n",
            " [12.336127 ]\n",
            " [14.459229 ]\n",
            " [13.28784  ]\n",
            " [14.748104 ]\n",
            " [20.404531 ]\n",
            " [12.8407345]\n",
            " [25.598846 ]]\n",
            "  0% 0/25 [00:00<?, ?it/s]\n",
            "Traceback (most recent call last):\n",
            "  File \"run.py\", line 173, in <module>\n",
            "    run(get_options())\n",
            "  File \"run.py\", line 168, in run\n",
            "    opts\n",
            "  File \"/content/garage/src/attention-learn-to-route/train_copy.py\", line 103, in train_epoch\n",
            "    opts\n",
            "  File \"/content/garage/src/attention-learn-to-route/train_copy.py\", line 191, in train_batch\n",
            "    print('VPG run' + str(vpg._train_once(1, eps)))\n",
            "  File \"/content/garage/src/garage/torch/algos/vpg.py\", line 156, in _train_once\n",
            "    baselines = self._value_function(obs)\n",
            "TypeError: 'NoneType' object is not callable\n"
          ],
          "name": "stdout"
        }
      ]
    },
    {
      "cell_type": "code",
      "metadata": {
        "id": "CwHxwKkL6qh3",
        "colab": {
          "base_uri": "https://localhost:8080/"
        },
        "outputId": "c6280537-3c16-4b25-8a6e-695f3c73292c"
      },
      "source": [
        "# Make sure this points to the project folder\n",
        "\n",
        "%cd drive/'My Drive'/CORL"
      ],
      "execution_count": null,
      "outputs": [
        {
          "output_type": "stream",
          "text": [
            "/content/drive/My Drive/CORL\n"
          ],
          "name": "stdout"
        }
      ]
    },
    {
      "cell_type": "code",
      "metadata": {
        "id": "ZQXpBJPg0-V1",
        "colab": {
          "base_uri": "https://localhost:8080/"
        },
        "outputId": "b9d1f5ed-e87f-410e-e8b9-eba737d090c6"
      },
      "source": [
        "%cd attention"
      ],
      "execution_count": null,
      "outputs": [
        {
          "output_type": "stream",
          "text": [
            "/content/drive/My Drive/CORL/attention\n"
          ],
          "name": "stdout"
        }
      ]
    },
    {
      "cell_type": "code",
      "metadata": {
        "colab": {
          "base_uri": "https://localhost:8080/",
          "height": 102
        },
        "id": "DJVJJzi9Wrzb",
        "outputId": "af67a606-70e8-4078-84bc-3864565067db"
      },
      "source": [
        "import wandb\n",
        "\n",
        "wandb.login()"
      ],
      "execution_count": null,
      "outputs": [
        {
          "output_type": "display_data",
          "data": {
            "application/javascript": [
              "\n",
              "        window._wandbApiKey = new Promise((resolve, reject) => {\n",
              "            function loadScript(url) {\n",
              "            return new Promise(function(resolve, reject) {\n",
              "                let newScript = document.createElement(\"script\");\n",
              "                newScript.onerror = reject;\n",
              "                newScript.onload = resolve;\n",
              "                document.body.appendChild(newScript);\n",
              "                newScript.src = url;\n",
              "            });\n",
              "            }\n",
              "            loadScript(\"https://cdn.jsdelivr.net/npm/postmate/build/postmate.min.js\").then(() => {\n",
              "            const iframe = document.createElement('iframe')\n",
              "            iframe.style.cssText = \"width:0;height:0;border:none\"\n",
              "            document.body.appendChild(iframe)\n",
              "            const handshake = new Postmate({\n",
              "                container: iframe,\n",
              "                url: 'https://wandb.ai/authorize'\n",
              "            });\n",
              "            const timeout = setTimeout(() => reject(\"Couldn't auto authenticate\"), 5000)\n",
              "            handshake.then(function(child) {\n",
              "                child.on('authorize', data => {\n",
              "                    clearTimeout(timeout)\n",
              "                    resolve(data)\n",
              "                });\n",
              "            });\n",
              "            })\n",
              "        });\n",
              "    "
            ],
            "text/plain": [
              "<IPython.core.display.Javascript object>"
            ]
          },
          "metadata": {
            "tags": []
          }
        },
        {
          "output_type": "stream",
          "text": [
            "\u001b[34m\u001b[1mwandb\u001b[0m: You can find your API key in your browser here: https://wandb.ai/authorize\n"
          ],
          "name": "stderr"
        },
        {
          "output_type": "stream",
          "text": [
            "wandb: Paste an API key from your profile and hit enter: ··········\n"
          ],
          "name": "stdout"
        },
        {
          "output_type": "stream",
          "text": [
            "\u001b[34m\u001b[1mwandb\u001b[0m: Appending key for api.wandb.ai to your netrc file: /root/.netrc\n"
          ],
          "name": "stderr"
        },
        {
          "output_type": "execute_result",
          "data": {
            "text/plain": [
              "True"
            ]
          },
          "metadata": {
            "tags": []
          },
          "execution_count": 7
        }
      ]
    },
    {
      "cell_type": "code",
      "metadata": {
        "id": "3cgIK0U5M26a",
        "colab": {
          "base_uri": "https://localhost:8080/"
        },
        "outputId": "40f1ba7a-aba6-4c30-b2fb-1192a4c9a5e0"
      },
      "source": [
        "# This block will run the originial attention code with the below settings\n",
        "# The save_hrs are the checkpoint hours to save the model\n",
        "\n",
        "!python run.py --graph_size 100 --batch_size 64 --problem cvrp --baseline rollout --run_name 'vrp100_rollout' --save_hrs 5 10 --epoch_size 12800 --n_epochs 500\n",
        "\n",
        "# this is an example of how to run evolution code\n",
        "#!python vrp_evolve.py --save_dir ../models/att_evo --save_hrs 2 3 4 5 6 8 10 --sigma 0.001 --lr 0.000001 --dataset_size 12800 --epochs 500"
      ],
      "execution_count": null,
      "outputs": [
        {
          "output_type": "stream",
          "text": [
            "2021-01-26 13:50:45.455415: I tensorflow/stream_executor/platform/default/dso_loader.cc:49] Successfully opened dynamic library libcudart.so.10.1\n",
            "\u001b[34m\u001b[1mwandb\u001b[0m: Currently logged in as: \u001b[33mrnhondova\u001b[0m (use `wandb login --relogin` to force relogin)\n",
            "2021-01-26 13:50:59.439484: I tensorflow/stream_executor/platform/default/dso_loader.cc:49] Successfully opened dynamic library libcudart.so.10.1\n",
            "\u001b[34m\u001b[1mwandb\u001b[0m: Tracking run with wandb version 0.10.15\n",
            "\u001b[34m\u001b[1mwandb\u001b[0m: Syncing run \u001b[33meternal-haze-2\u001b[0m\n",
            "\u001b[34m\u001b[1mwandb\u001b[0m: ⭐️ View project at \u001b[34m\u001b[4mhttps://wandb.ai/rnhondova/pytorch-attention-model\u001b[0m\n",
            "\u001b[34m\u001b[1mwandb\u001b[0m: 🚀 View run at \u001b[34m\u001b[4mhttps://wandb.ai/rnhondova/pytorch-attention-model/runs/25jujl2f\u001b[0m\n",
            "\u001b[34m\u001b[1mwandb\u001b[0m: Run data is saved locally in /content/drive/My Drive/CORL/attention/wandb/run-20210126_135052-25jujl2f\n",
            "\u001b[34m\u001b[1mwandb\u001b[0m: Run `wandb offline` to turn off syncing.\n",
            "\n",
            "{'baseline': 'rollout',\n",
            " 'batch_size': 64,\n",
            " 'bl_alpha': 0.05,\n",
            " 'bl_warmup_epochs': 1,\n",
            " 'checkpoint_encoder': False,\n",
            " 'checkpoint_epochs': 1,\n",
            " 'data_distribution': None,\n",
            " 'embedding_dim': 128,\n",
            " 'epoch_size': 12800,\n",
            " 'epoch_start': 0,\n",
            " 'eval_batch_size': 1024,\n",
            " 'eval_only': False,\n",
            " 'exp_beta': 0.8,\n",
            " 'graph_size': 100,\n",
            " 'hidden_dim': 128,\n",
            " 'load_path': None,\n",
            " 'log_dir': 'logs',\n",
            " 'log_step': 50,\n",
            " 'lr_critic': 0.0001,\n",
            " 'lr_decay': 1.0,\n",
            " 'lr_model': 0.0001,\n",
            " 'max_grad_norm': 1.0,\n",
            " 'model': 'attention',\n",
            " 'n_encode_layers': 3,\n",
            " 'n_epochs': 500,\n",
            " 'no_cuda': False,\n",
            " 'no_progress_bar': False,\n",
            " 'no_tensorboard': False,\n",
            " 'normalization': 'batch',\n",
            " 'output_dir': 'outputs',\n",
            " 'problem': 'cvrp',\n",
            " 'resume': None,\n",
            " 'run_name': 'vrp100_rollout_20210126T135052',\n",
            " 'save_dir': 'outputs/cvrp_100/vrp100_rollout_20210126T135052',\n",
            " 'save_hrs': [5, 10],\n",
            " 'seed': 1234,\n",
            " 'shrink_size': None,\n",
            " 'tanh_clipping': 10.0,\n",
            " 'use_cuda': True,\n",
            " 'val_dataset': None,\n",
            " 'val_size': 10000}\n",
            "Evaluating baseline model on evaluation dataset\n",
            "100%|██████████| 10/10 [00:09<00:00,  1.10it/s]\n",
            "Traceback (most recent call last):\n",
            "  File \"run.py\", line 210, in <module>\n",
            "    run(config)\n",
            "  File \"run.py\", line 167, in run\n",
            "    torch.save(model, os.path.join('.', 'empty.pt'))\n",
            "  File \"/usr/local/lib/python3.6/dist-packages/torch/serialization.py\", line 372, in save\n",
            "    _save(obj, opened_zipfile, pickle_module, pickle_protocol)\n",
            "  File \"/usr/local/lib/python3.6/dist-packages/torch/serialization.py\", line 476, in _save\n",
            "    pickler.dump(obj)\n",
            "AttributeError: Can't pickle local object 'TorchGraph.hook_torch_modules.<locals>.backward_hook'\n",
            "\n",
            "\u001b[34m\u001b[1mwandb\u001b[0m: Waiting for W&B process to finish, PID 372\n",
            "\u001b[34m\u001b[1mwandb\u001b[0m: Program failed with code 1.  Press ctrl-c to abort syncing.\n",
            "\u001b[34m\u001b[1mwandb\u001b[0m:                                                                                \n",
            "\u001b[34m\u001b[1mwandb\u001b[0m: Find user logs for this run at: /content/drive/My Drive/CORL/attention/wandb/run-20210126_135052-25jujl2f/logs/debug.log\n",
            "\u001b[34m\u001b[1mwandb\u001b[0m: Find internal logs for this run at: /content/drive/My Drive/CORL/attention/wandb/run-20210126_135052-25jujl2f/logs/debug-internal.log\n",
            "\u001b[34m\u001b[1mwandb\u001b[0m: Synced 5 W&B file(s), 0 media file(s), 0 artifact file(s) and 0 other file(s)\n",
            "\u001b[34m\u001b[1mwandb\u001b[0m: \n",
            "\u001b[34m\u001b[1mwandb\u001b[0m: Synced \u001b[33meternal-haze-2\u001b[0m: \u001b[34mhttps://wandb.ai/rnhondova/pytorch-attention-model/runs/25jujl2f\u001b[0m\n"
          ],
          "name": "stdout"
        }
      ]
    },
    {
      "cell_type": "code",
      "metadata": {
        "id": "uEU7zEhHUqzV",
        "colab": {
          "base_uri": "https://localhost:8080/"
        },
        "outputId": "db68e877-7905-4546-f639-53e8a1d29f85"
      },
      "source": [
        "!git status"
      ],
      "execution_count": 23,
      "outputs": [
        {
          "output_type": "stream",
          "text": [
            "\u001b[31mHEAD detached at \u001b[mb1b1b0c\n",
            "Changes not staged for commit:\n",
            "  (use \"git add/rm <file>...\" to update what will be committed)\n",
            "  (use \"git checkout -- <file>...\" to discard changes in working directory)\n",
            "\n",
            "\t\u001b[31mmodified:   run.py\u001b[m\n",
            "\t\u001b[31mdeleted:    train copy.py\u001b[m\n",
            "\n",
            "Untracked files:\n",
            "  (use \"git add <file>...\" to include in what will be committed)\n",
            "\n",
            "\t\u001b[31mMakefile\u001b[m\n",
            "\t\u001b[31mgarage_requirements.txt\u001b[m\n",
            "\t\u001b[31mtrain_copy.py\u001b[m\n",
            "\n",
            "no changes added to commit (use \"git add\" and/or \"git commit -a\")\n"
          ],
          "name": "stdout"
        }
      ]
    },
    {
      "cell_type": "code",
      "metadata": {
        "id": "J_IWMkKGVbyp"
      },
      "source": [
        "!git add -A"
      ],
      "execution_count": 24,
      "outputs": []
    },
    {
      "cell_type": "code",
      "metadata": {
        "id": "sFZpTaAQVwLR"
      },
      "source": [
        "!git config --global user.email \"rnhondova@yahoo.com\""
      ],
      "execution_count": 27,
      "outputs": []
    },
    {
      "cell_type": "code",
      "metadata": {
        "id": "rFFHnmrXV5xd"
      },
      "source": [
        "!git config --global user.name \"Ronald Nhondova\""
      ],
      "execution_count": 28,
      "outputs": []
    },
    {
      "cell_type": "code",
      "metadata": {
        "colab": {
          "base_uri": "https://localhost:8080/"
        },
        "id": "tQhvqoQIVfQ1",
        "outputId": "c0749741-6613-4824-c1f7-2a9212483c4d"
      },
      "source": [
        "!git commit -m \"Add required files to set garage\""
      ],
      "execution_count": 29,
      "outputs": [
        {
          "output_type": "stream",
          "text": [
            "[detached HEAD 18b3b07] Add required files to set garage\n",
            " 4 files changed, 53 insertions(+), 16 deletions(-)\n",
            " create mode 100644 Makefile\n",
            " create mode 100644 garage_requirements.txt\n",
            " rename train copy.py => train_copy.py (87%)\n"
          ],
          "name": "stdout"
        }
      ]
    },
    {
      "cell_type": "code",
      "metadata": {
        "colab": {
          "base_uri": "https://localhost:8080/"
        },
        "id": "Plx8L2EGV_vk",
        "outputId": "f0644d70-a0d8-4155-b7df-063c70c00ca2"
      },
      "source": [
        "!git push origin HEAD:master"
      ],
      "execution_count": 31,
      "outputs": [
        {
          "output_type": "stream",
          "text": [
            "fatal: could not read Username for 'https://github.com': No such device or address\n"
          ],
          "name": "stdout"
        }
      ]
    },
    {
      "cell_type": "code",
      "metadata": {
        "colab": {
          "base_uri": "https://localhost:8080/"
        },
        "id": "o796PPQWkpLF",
        "outputId": "af349777-091d-49ac-ac1f-961f5fa8ebca"
      },
      "source": [
        "import numpy as np\n",
        "test_ = np.array([1,2,3,4,5,6])\n",
        "test_ = test_.reshape(test_.shape[0],1)\n",
        "for reward in test_:\n",
        "  print(reward[::-1])"
      ],
      "execution_count": 43,
      "outputs": [
        {
          "output_type": "stream",
          "text": [
            "[1]\n",
            "[2]\n",
            "[3]\n",
            "[4]\n",
            "[5]\n",
            "[6]\n"
          ],
          "name": "stdout"
        }
      ]
    },
    {
      "cell_type": "code",
      "metadata": {
        "id": "96-YALbflQCD"
      },
      "source": [
        "import scipy.signal\n",
        "def discount_cumsum(x, discount):\n",
        "    \"\"\"Discounted cumulative sum.\n",
        "\n",
        "    See https://docs.scipy.org/doc/scipy/reference/tutorial/signal.html#difference-equation-filtering  # noqa: E501\n",
        "    Here, we have y[t] - discount*y[t+1] = x[t]\n",
        "    or rev(y)[t] - discount*rev(y)[t-1] = rev(x)[t]\n",
        "\n",
        "    Args:\n",
        "        x (np.ndarrary): Input.\n",
        "        discount (float): Discount factor.\n",
        "\n",
        "    Returns:\n",
        "        np.ndarrary: Discounted cumulative sum.\n",
        "\n",
        "\n",
        "    \"\"\"\n",
        "    return scipy.signal.lfilter([1], [1, float(-discount)], x[::-1],\n",
        "                                axis=-1)[::-1]\n",
        "                  \n",
        "def pad_tensor(x, max_len, mode='zero'):\n",
        "    \"\"\"Pad tensors.\n",
        "\n",
        "    Args:\n",
        "        x (numpy.ndarray): Tensors to be padded.\n",
        "        max_len (int): Maximum length.\n",
        "        mode (str): If 'last', pad with the last element, otherwise pad with 0.\n",
        "\n",
        "    Returns:\n",
        "        numpy.ndarray: Padded tensor.\n",
        "\n",
        "    \"\"\"\n",
        "    padding = np.zeros_like(x[0])\n",
        "    if mode == 'last':\n",
        "        padding = x[-1]\n",
        "\n",
        "    return np.concatenate(\n",
        "        [x, np.tile(padding, (max_len - len(x), ) + (1, ) * np.ndim(x[0]))])"
      ],
      "execution_count": 59,
      "outputs": []
    },
    {
      "cell_type": "code",
      "metadata": {
        "colab": {
          "base_uri": "https://localhost:8080/"
        },
        "id": "YyPUzDDhlgn_",
        "outputId": "f288fb84-b8ef-4554-d599-28eb8322b251"
      },
      "source": [
        "for reward in test_:\n",
        "  (reward[::-1])"
      ],
      "execution_count": 42,
      "outputs": [
        {
          "output_type": "execute_result",
          "data": {
            "text/plain": [
              "array([[1],\n",
              "       [2],\n",
              "       [3],\n",
              "       [4],\n",
              "       [5],\n",
              "       [6]])"
            ]
          },
          "metadata": {
            "tags": []
          },
          "execution_count": 42
        }
      ]
    },
    {
      "cell_type": "code",
      "metadata": {
        "id": "A-Nmc8h2mjgK"
      },
      "source": [
        "import torch\n",
        "rewards = torch.Tensor(test_)\n",
        "returns = torch.Tensor(\n",
        "    np.stack([\n",
        "        discount_cumsum(reward, 0.5)\n",
        "        for reward in test_\n",
        "    ]))"
      ],
      "execution_count": 56,
      "outputs": []
    },
    {
      "cell_type": "code",
      "metadata": {
        "colab": {
          "base_uri": "https://localhost:8080/"
        },
        "id": "FINI9erenDfK",
        "outputId": "31958b6b-369b-4e18-f23c-1f478f7065c3"
      },
      "source": [
        "returns"
      ],
      "execution_count": 57,
      "outputs": [
        {
          "output_type": "execute_result",
          "data": {
            "text/plain": [
              "tensor([[1.],\n",
              "        [2.],\n",
              "        [3.],\n",
              "        [4.],\n",
              "        [5.],\n",
              "        [6.]])"
            ]
          },
          "metadata": {
            "tags": []
          },
          "execution_count": 57
        }
      ]
    },
    {
      "cell_type": "code",
      "metadata": {
        "colab": {
          "base_uri": "https://localhost:8080/"
        },
        "id": "ZM7VWjgQt-ps",
        "outputId": "58f339ec-deb0-45f9-aba5-30cd3d360784"
      },
      "source": [
        "pad_tensor(test_, len(test_), mode='last')"
      ],
      "execution_count": 63,
      "outputs": [
        {
          "output_type": "execute_result",
          "data": {
            "text/plain": [
              "array([[1],\n",
              "       [2],\n",
              "       [3],\n",
              "       [4],\n",
              "       [5],\n",
              "       [6]])"
            ]
          },
          "metadata": {
            "tags": []
          },
          "execution_count": 63
        }
      ]
    }
  ]
}